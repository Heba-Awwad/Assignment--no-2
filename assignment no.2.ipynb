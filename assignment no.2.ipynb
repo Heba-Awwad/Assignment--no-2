{
 "cells": [
  {
   "cell_type": "markdown",
   "id": "3577d3c3",
   "metadata": {},
   "source": [
    "1. Write function pow() that calculates the power, which takes base and exponent as\n",
    "arguments."
   ]
  },
  {
   "cell_type": "code",
   "execution_count": 1,
   "id": "89e91bb2",
   "metadata": {},
   "outputs": [
    {
     "name": "stdout",
     "output_type": "stream",
     "text": [
      "2^4 = 16\n"
     ]
    }
   ],
   "source": [
    "def pow(base, exponent):\n",
    "    result = 1\n",
    "    for _ in range(abs(exponent)):\n",
    "        result *= base\n",
    "    if exponent < 0:\n",
    "        return 1 / result\n",
    "    return result\n",
    "\n",
    "base = int(input(\"Enter base: \"))\n",
    "exponent = int(input(\"Enter exponent: \"))\n",
    "print(f\"{base}^{exponent} = {pow(base, exponent)}\")\n"
   ]
  },
  {
   "cell_type": "markdown",
   "id": "613e5f9d",
   "metadata": {},
   "source": [
    "2. Write function area() that calculates the area of the shape."
   ]
  },
  {
   "cell_type": "code",
   "execution_count": 1,
   "id": "13b5935d",
   "metadata": {},
   "outputs": [
    {
     "name": "stdout",
     "output_type": "stream",
     "text": [
      "Choose shape: circle, square, rectangle, triangle\n",
      "The area of the circle is: 50.24\n"
     ]
    }
   ],
   "source": [
    "def area():\n",
    "    print(\"Choose shape: circle, square, rectangle, triangle\")\n",
    "    shape = input(\"Enter shape: \").lower()\n",
    "\n",
    "    if shape == \"circle\":\n",
    "        radius = float(input(\"Enter radius: \"))\n",
    "        result = 3.14 * radius * radius\n",
    "    elif shape == \"square\":\n",
    "        side = float(input(\"Enter side length: \"))\n",
    "        result = side * side\n",
    "    elif shape == \"rectangle\":\n",
    "        length = float(input(\"Enter length: \"))\n",
    "        width = float(input(\"Enter width: \"))\n",
    "        result = length * width\n",
    "    elif shape == \"triangle\":\n",
    "        base = float(input(\"Enter base: \"))\n",
    "        height = float(input(\"Enter height: \"))\n",
    "        result = 0.5 * base * height\n",
    "    else:\n",
    "        print(\"Invalid shape.\")\n",
    "        return\n",
    "\n",
    "    print(f\"The area of the {shape} is: {result}\")\n",
    "\n",
    "area()\n"
   ]
  },
  {
   "cell_type": "markdown",
   "id": "c15f20dc",
   "metadata": {},
   "source": [
    "3. Write a program to find the sum of all numbers in a list."
   ]
  },
  {
   "cell_type": "code",
   "execution_count": null,
   "id": "8a17dbe2",
   "metadata": {},
   "outputs": [],
   "source": [
    "user_input = input(\"Enter numbers separated by spaces: \")\n",
    "numbers = [int(x) for x in user_input.split()]\n",
    "total = sum(numbers)\n",
    "print(\"The sum of all numbers in this list is:\", total)\n"
   ]
  },
  {
   "cell_type": "markdown",
   "id": "6a1ca39a",
   "metadata": {},
   "source": [
    "4. Write a program to concatenate two tuples then get the max and min element."
   ]
  },
  {
   "cell_type": "code",
   "execution_count": 2,
   "id": "4ab61596",
   "metadata": {},
   "outputs": [
    {
     "name": "stdout",
     "output_type": "stream",
     "text": [
      "Combined tuple: (5, 0, 2, 7, 8, 2)\n",
      "Maximum element: 8\n",
      "Minimum element: 0\n"
     ]
    }
   ],
   "source": [
    "tuple1 = tuple(map(int, input(\"Enter the first tuple elements separated by spaces: \").split()))\n",
    "tuple2 = tuple(map(int, input(\"Enter the second tuple elements separated by spaces: \").split()))\n",
    "\n",
    "combined = tuple1 + tuple2\n",
    "print(\"Combined tuple:\", combined)\n",
    "print(\"Maximum element:\", max(combined))\n",
    "print(\"Minimum element:\", min(combined))\n"
   ]
  },
  {
   "cell_type": "markdown",
   "id": "6af02daa",
   "metadata": {},
   "source": [
    "5. Write a function that takes tuple as argument and if length of tuple greater than 5,\n",
    "return the count of number elements. Note that the tuple may be with different data\n",
    "types."
   ]
  },
  {
   "cell_type": "code",
   "execution_count": 5,
   "id": "5bc5d688",
   "metadata": {},
   "outputs": [
    {
     "name": "stdout",
     "output_type": "stream",
     "text": [
      "The tuple is : ('HI', '7', '22.6', 'heba', '9', '0')\n",
      "Result: 4\n"
     ]
    }
   ],
   "source": [
    "def count_numbers_in_tuple(t):\n",
    "    if len(t) > 5:\n",
    "        count = 0\n",
    "        for item in t:\n",
    "            try:\n",
    "                float(item)\n",
    "                count += 1\n",
    "            except ValueError:\n",
    "                continue\n",
    "        return count\n",
    "    else:\n",
    "        return \"Tuple length is 5 or less\"\n",
    "\n",
    "\n",
    "user_input = input(\"Enter tuple elements separated by commas: \")\n",
    "user_tuple = tuple(user_input.split(','))\n",
    "\n",
    "result = count_numbers_in_tuple(user_tuple)\n",
    "print( \"The tuple is :\",user_tuple)\n",
    "print(\"Result:\", result)\n"
   ]
  },
  {
   "cell_type": "markdown",
   "id": "042b6644",
   "metadata": {},
   "source": [
    "6. Write a function which will be able to print a index of list element without using\n",
    "index function."
   ]
  },
  {
   "cell_type": "code",
   "execution_count": 6,
   "id": "6908765e",
   "metadata": {},
   "outputs": [
    {
     "name": "stdout",
     "output_type": "stream",
     "text": [
      "Element 40 found at index: 6\n"
     ]
    }
   ],
   "source": [
    "def find_index(lst, element):\n",
    "    for i in range(len(lst)):\n",
    "        if lst[i] == element:\n",
    "            print(f\"Element {element} found at index: {i}\")\n",
    "            return\n",
    "    print(f\"Element {element} not found in the list.\")\n",
    "\n",
    "user_list = input(\"Enter list elements separated by spaces: \").split()\n",
    "\n",
    "user_list = [int(x) for x in user_list]\n",
    "\n",
    "elem = int(input(\"Enter element to find its index: \"))\n",
    "\n",
    "find_index(user_list, elem)\n"
   ]
  },
  {
   "cell_type": "markdown",
   "id": "897e4cbd",
   "metadata": {},
   "source": [
    "7. Write a Python function that takes a number as a parameter and checks whether the\n",
    "number is prime or not."
   ]
  },
  {
   "cell_type": "code",
   "execution_count": 7,
   "id": "38807477",
   "metadata": {},
   "outputs": [
    {
     "name": "stdout",
     "output_type": "stream",
     "text": [
      "23 is a prime number.\n"
     ]
    }
   ],
   "source": [
    "def is_prime(n):\n",
    "    if n <= 1:\n",
    "        return False  \n",
    "    for i in range(2, int(n ** 0.5) + 1):  \n",
    "        if n % i == 0:\n",
    "            return False\n",
    "    return True\n",
    "num = int(input(\"Enter a number: \"))\n",
    "\n",
    "if is_prime(num):\n",
    "    print(f\"{num} is a prime number.\")\n",
    "else:\n",
    "    print(f\"{num} is not a prime number.\")\n"
   ]
  },
  {
   "cell_type": "markdown",
   "id": "f491cdb9",
   "metadata": {},
   "source": [
    "8. Write a Python class Restaurant with attributes like menu_items, book_table, and\n",
    "customer_orders, and methods like add_item_to_menu, book_tables, and\n",
    "customer_order. (Note: Use dictionaries and lists to store the data.)\n",
    "Perform the following tasks now:\n",
    "• Now add items to the menu.\n",
    "• Make table reservations.\n",
    "• Take customer orders.\n",
    "• Print the menu.\n",
    "• Print table reservations.\n",
    "• Print customer orders."
   ]
  },
  {
   "cell_type": "code",
   "execution_count": 10,
   "id": "3c26eb59",
   "metadata": {},
   "outputs": [
    {
     "name": "stdout",
     "output_type": "stream",
     "text": [
      "Added 'Burger' to the menu.\n",
      "Added 'Pizza' to the menu.\n",
      "Added 'Pasta' to the menu.\n",
      "Table 1 booked for Alice.\n",
      "Table 2 booked for Bob.\n",
      "Order added for table 1.\n",
      "Order added for table 2.\n",
      "\n",
      "--- Menu ---\n",
      "Burger: $10\n",
      "Pizza: $15\n",
      "Pasta: $12\n",
      "\n",
      "--- Booked Tables ---\n",
      "Table 1: Alice\n",
      "Table 2: Bob\n",
      "\n",
      "--- Customer Orders ---\n",
      "Table 1: ['Pizza', 'Pasta']\n",
      "Table 2: ['Burger']\n"
     ]
    }
   ],
   "source": [
    "class Restaurant:\n",
    "    def __init__(self):\n",
    "        self.menu_items = {}         # {item_name: price}\n",
    "        self.booked_tables = {}      # {table_number: customer_name}\n",
    "        self.customer_orders = {}    # {table_number: [order1, order2]}\n",
    "\n",
    "    def add_item_to_menu(self, item_name, price):\n",
    "        self.menu_items[item_name] = price\n",
    "        print(f\"Added '{item_name}' to the menu.\")\n",
    "\n",
    "    def print_menu(self):\n",
    "        print(\"\\n--- Menu ---\")\n",
    "        for item, price in self.menu_items.items():\n",
    "            print(f\"{item}: ${price}\")\n",
    "\n",
    "    def book_table(self, table_number, customer_name):\n",
    "        if table_number in self.booked_tables:\n",
    "            print(f\"Table {table_number} is already booked.\")\n",
    "        else:\n",
    "            self.booked_tables[table_number] = customer_name\n",
    "            print(f\"Table {table_number} booked for {customer_name}.\")\n",
    "\n",
    "    def print_booked_tables(self):\n",
    "        print(\"\\n--- Booked Tables ---\")\n",
    "        for table, customer in self.booked_tables.items():\n",
    "            print(f\"Table {table}: {customer}\")\n",
    "\n",
    "    def customer_order(self, table_number, order_list):\n",
    "        if table_number not in self.booked_tables:\n",
    "            print(f\"Table {table_number} is not booked yet!\")\n",
    "            return\n",
    "        if table_number not in self.customer_orders:\n",
    "            self.customer_orders[table_number] = []\n",
    "        self.customer_orders[table_number].extend(order_list)\n",
    "        print(f\"Order added for table {table_number}.\")\n",
    "\n",
    "    def print_customer_orders(self):\n",
    "        print(\"\\n--- Customer Orders ---\")\n",
    "        for table, orders in self.customer_orders.items():\n",
    "            print(f\"Table {table}: {orders}\")\n",
    "\n",
    "my_restaurant = Restaurant()\n",
    "my_restaurant.add_item_to_menu(\"Burger\", 10)\n",
    "my_restaurant.add_item_to_menu(\"Pizza\", 15)\n",
    "my_restaurant.add_item_to_menu(\"Pasta\", 12)\n",
    "\n",
    "# Book tables\n",
    "my_restaurant.book_table(1, \"Alice\")\n",
    "my_restaurant.book_table(2, \"Bob\")\n",
    "\n",
    "# Take customer orders\n",
    "my_restaurant.customer_order(1, [\"Pizza\", \"Pasta\"])\n",
    "my_restaurant.customer_order(2, [\"Burger\"])\n",
    "\n",
    "# Print info\n",
    "my_restaurant.print_menu()\n",
    "my_restaurant.print_booked_tables()\n",
    "my_restaurant.print_customer_orders()\n"
   ]
  },
  {
   "cell_type": "markdown",
   "id": "62c25c28",
   "metadata": {},
   "source": [
    "9. A Bike Rental System Let us start writing the class Customer that is composed of the following\n",
    "attributes:\n",
    "• name\n",
    "• age\n",
    "Here are some of the methods that you need to add to your class Customer;\n",
    "• def __init__(self).\n",
    "• Getter / setter for all attributes.\n",
    "class MainBikeRental that is composed of the following attributes:\n",
    "• List of bikes\n",
    "• List of Rentals\n",
    "Here are some of the methods that you need to add to your class MainBikeRental;\n",
    "• def __init__(self).\n",
    "• Getter / setter for all attributes.\n",
    "\n",
    "• requestBike: Takes a request from the customer for the number of bikes and check if\n",
    "the requested number is available or not if yes, function will deduct number_of_bikes\n",
    "from shop stock else it will print wait 10 mins. And you have to make sure that the age\n",
    "of the customer is over than 6 years.\n",
    "• returnBike: Allows customers to return their bikes to the rental shop by taking\n",
    "rentalTime, num_of_bikes as parameters. And calculate the total bill cost by multiplying\n",
    "rentalTime * 40. Also, add the returned bikes to the stock store again\n",
    "• addBike: adds bikes into the list\n",
    "• totalCost: returns the total cost of bikes in the store\n",
    "class Bike that is composed of the following attributes:\n",
    "• name\n",
    "• price\n",
    "Here are some of the methods that you need to add to your class Bike;\n",
    "• def __init__(self).\n",
    "• Getter / setter for all attributes."
   ]
  },
  {
   "cell_type": "code",
   "execution_count": 11,
   "id": "6d27a147",
   "metadata": {},
   "outputs": [
    {
     "name": "stdout",
     "output_type": "stream",
     "text": [
      "Bike 'Mountain' added to the store.\n",
      "Bike 'City' added to the store.\n",
      "Bike 'Sport' added to the store.\n",
      "Bike 'Road' added to the store.\n",
      "2 bike(s) rented to Ali.\n",
      "2 bike(s) returned by Ali.\n",
      "Total bill: $120\n",
      "Total cost of bikes in the store: 700\n"
     ]
    }
   ],
   "source": [
    "class Customer:\n",
    "    def __init__(self, name, age):\n",
    "        self._name = name\n",
    "        self._age = age\n",
    "\n",
    "    # Getters\n",
    "    def get_name(self):\n",
    "        return self._name\n",
    "\n",
    "    def get_age(self):\n",
    "        return self._age\n",
    "\n",
    "    # Setters\n",
    "    def set_name(self, name):\n",
    "        self._name = name\n",
    "\n",
    "    def set_age(self, age):\n",
    "        self._age = age\n",
    "\n",
    "\n",
    "class Bike:\n",
    "    def __init__(self, name, price):\n",
    "        self._name = name\n",
    "        self._price = price\n",
    "\n",
    "    # Getters\n",
    "    def get_name(self):\n",
    "        return self._name\n",
    "\n",
    "    def get_price(self):\n",
    "        return self._price\n",
    "\n",
    "    # Setters\n",
    "    def set_name(self, name):\n",
    "        self._name = name\n",
    "\n",
    "    def set_price(self, price):\n",
    "        self._price = price\n",
    "\n",
    "\n",
    "class MainBikeRental:\n",
    "    def __init__(self):\n",
    "        self._bikes = []        # List of Bike objects\n",
    "        self._rentals = []      # List of rental records (name, list of bikes)\n",
    "\n",
    "    # Getters\n",
    "    def get_bikes(self):\n",
    "        return self._bikes\n",
    "\n",
    "    def get_rentals(self):\n",
    "        return self._rentals\n",
    "\n",
    "    # Setters\n",
    "    def set_bikes(self, bikes):\n",
    "        self._bikes = bikes\n",
    "\n",
    "    def set_rentals(self, rentals):\n",
    "        self._rentals = rentals\n",
    "\n",
    "    # Add a bike to the store\n",
    "    def addBike(self, bike):\n",
    "        self._bikes.append(bike)\n",
    "        print(f\"Bike '{bike.get_name()}' added to the store.\")\n",
    "\n",
    "    # Total cost of all bikes in the store\n",
    "    def totalCost(self):\n",
    "        return sum(bike.get_price() for bike in self._bikes)\n",
    "\n",
    "    # Customer requests bikes\n",
    "    def requestBike(self, customer, num_of_bikes):\n",
    "        if customer.get_age() <= 6:\n",
    "            print(\"Customer must be older than 6 years.\")\n",
    "            return False\n",
    "\n",
    "        if num_of_bikes <= len(self._bikes):\n",
    "            rented_bikes = self._bikes[:num_of_bikes]\n",
    "            self._bikes = self._bikes[num_of_bikes:]\n",
    "            self._rentals.append((customer.get_name(), rented_bikes))\n",
    "            print(f\"{num_of_bikes} bike(s) rented to {customer.get_name()}.\")\n",
    "            return True\n",
    "        else:\n",
    "            print(\"Not enough bikes available. Please wait 10 minutes.\")\n",
    "            return False\n",
    "\n",
    "    # Customer returns bikes\n",
    "    def returnBike(self, customer_name, rental_time, num_of_bikes):\n",
    "        for i, (name, bikes) in enumerate(self._rentals):\n",
    "            if name == customer_name:\n",
    "                returned = bikes[:num_of_bikes]\n",
    "                self._bikes.extend(returned)\n",
    "                self._rentals.pop(i)\n",
    "                cost = rental_time * 40\n",
    "                print(f\"{num_of_bikes} bike(s) returned by {name}.\")\n",
    "                print(f\"Total bill: ${cost}\")\n",
    "                return cost\n",
    "        print(\"No rentals found for this customer.\")\n",
    "        return 0\n",
    "\n",
    "\n",
    "# Create rental shop\n",
    "shop = MainBikeRental()\n",
    "\n",
    "# Add some bikes\n",
    "shop.addBike(Bike(\"Mountain\", 200))\n",
    "shop.addBike(Bike(\"City\", 150))\n",
    "shop.addBike(Bike(\"Sport\", 180))\n",
    "shop.addBike(Bike(\"Road\", 170))\n",
    "\n",
    "# Create customer\n",
    "cust1 = Customer(\"Ali\", 20)\n",
    "\n",
    "# Customer requests 2 bikes\n",
    "shop.requestBike(cust1, 2)\n",
    "\n",
    "# Customer returns the bikes after 3 hours\n",
    "shop.returnBike(\"Ali\", rental_time=3, num_of_bikes=2)\n",
    "\n",
    "# Print total cost of all bikes in the shop\n",
    "print(\"Total cost of bikes in the store:\", shop.totalCost())\n"
   ]
  }
 ],
 "metadata": {
  "kernelspec": {
   "display_name": "Python 3",
   "language": "python",
   "name": "python3"
  },
  "language_info": {
   "codemirror_mode": {
    "name": "ipython",
    "version": 3
   },
   "file_extension": ".py",
   "mimetype": "text/x-python",
   "name": "python",
   "nbconvert_exporter": "python",
   "pygments_lexer": "ipython3",
   "version": "3.12.7"
  }
 },
 "nbformat": 4,
 "nbformat_minor": 5
}
